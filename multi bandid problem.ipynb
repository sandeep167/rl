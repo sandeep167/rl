{
 "cells": [
  {
   "cell_type": "code",
   "execution_count": 6,
   "id": "15f0f968",
   "metadata": {},
   "outputs": [
    {
     "name": "stdout",
     "output_type": "stream",
     "text": [
      "Bandit 1: True Mean = -1.2062396517582512, Estimated Mean = -0.6303031734893472\n",
      "Bandit 2: True Mean = 1.3788422145766226, Estimated Mean = 1.3643835443052745\n",
      "Bandit 3: True Mean = 2.1872926009187914, Estimated Mean = 0.0\n",
      "Bandit 4: True Mean = 0.7052843092827579, Estimated Mean = 0.0\n",
      "Bandit 5: True Mean = -0.49823883377633676, Estimated Mean = 0.0\n"
     ]
    }
   ],
   "source": [
    "import numpy as np\n",
    "\n",
    "# Number of bandits\n",
    "num_bandits = 5\n",
    "\n",
    "# True mean rewards of bandits (unknown to the agent)\n",
    "true_means = np.random.randn(num_bandits)\n",
    "\n",
    "# Initialize estimated mean rewards for each bandit\n",
    "estimated_means = np.zeros(num_bandits)\n",
    "\n",
    "# Number of steps\n",
    "num_steps = 1000\n",
    "\n",
    "# Record of rewards obtained\n",
    "rewards = []\n",
    "\n",
    "# Main loop\n",
    "for step in range(num_steps):\n",
    "    # Select the bandit with the highest estimated mean\n",
    "    selected_bandit = np.argmax(estimated_means)\n",
    "\n",
    "    # Pull the selected bandit and get a reward\n",
    "    reward = np.random.randn() + true_means[selected_bandit]\n",
    "\n",
    "    # Update the estimated mean reward for the selected bandit\n",
    "    estimated_means[selected_bandit] += (reward - estimated_means[selected_bandit]) / (step + 1)\n",
    "\n",
    "    # Record the reward obtained\n",
    "    rewards.append(reward)\n",
    "\n",
    "# Print the estimated means of each bandit\n",
    "for i in range(num_bandits):\n",
    "    print(f\"Bandit {i + 1}: True Mean = {true_means[i]}, Estimated Mean = {estimated_means[i]}\")\n"
   ]
  },
  {
   "cell_type": "code",
   "execution_count": null,
   "id": "6c080b30",
   "metadata": {},
   "outputs": [],
   "source": []
  }
 ],
 "metadata": {
  "kernelspec": {
   "display_name": "Python 3 (ipykernel)",
   "language": "python",
   "name": "python3"
  },
  "language_info": {
   "codemirror_mode": {
    "name": "ipython",
    "version": 3
   },
   "file_extension": ".py",
   "mimetype": "text/x-python",
   "name": "python",
   "nbconvert_exporter": "python",
   "pygments_lexer": "ipython3",
   "version": "3.11.4"
  }
 },
 "nbformat": 4,
 "nbformat_minor": 5
}
