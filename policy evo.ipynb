{
 "cells": [
  {
   "cell_type": "code",
   "execution_count": 3,
   "id": "f454d83d",
   "metadata": {},
   "outputs": [
    {
     "name": "stdout",
     "output_type": "stream",
     "text": [
      "Optimal Policy:\n",
      "[[1. 0. 0. 0.]\n",
      " [1. 0. 0. 0.]\n",
      " [1. 0. 0. 0.]\n",
      " [1. 0. 0. 0.]\n",
      " [1. 0. 0. 0.]\n",
      " [1. 0. 0. 0.]\n",
      " [1. 0. 0. 0.]\n",
      " [1. 0. 0. 0.]\n",
      " [1. 0. 0. 0.]\n",
      " [1. 0. 0. 0.]\n",
      " [1. 0. 0. 0.]\n",
      " [1. 0. 0. 0.]\n",
      " [1. 0. 0. 0.]\n",
      " [1. 0. 0. 0.]\n",
      " [1. 0. 0. 0.]\n",
      " [1. 0. 0. 0.]]\n",
      "Optimal Value Function:\n",
      "[inf inf inf inf inf  0. inf  0. inf inf inf  0.  0. inf inf  0.]\n"
     ]
    },
    {
     "name": "stderr",
     "output_type": "stream",
     "text": [
      "/var/folders/51/p6r3c_sj4x93fwpndm418wrh0000gn/T/ipykernel_9264/981414957.py:9: RuntimeWarning: overflow encountered in scalar add\n",
      "  v = sum(prob * (reward + gamma * V[next_state])\n",
      "/var/folders/51/p6r3c_sj4x93fwpndm418wrh0000gn/T/ipykernel_9264/981414957.py:12: RuntimeWarning: invalid value encountered in scalar subtract\n",
      "  delta = max(delta, np.abs(v - V[s]))\n"
     ]
    }
   ],
   "source": [
    "import gym\n",
    "import numpy as np\n",
    "\n",
    "def policy_evaluation(env, policy, gamma=1.0, theta=1e-6):\n",
    "    V = np.zeros(env.observation_space.n)\n",
    "    while True:\n",
    "        delta = 0\n",
    "        for s in range(env.observation_space.n):\n",
    "            v = sum(prob * (reward + gamma * V[next_state])\n",
    "                    for action, action_prob in enumerate(policy[s])\n",
    "                    for prob, next_state, reward, _ in env.P[s][action])\n",
    "            delta = max(delta, np.abs(v - V[s]))\n",
    "            V[s] = v\n",
    "        if delta < theta:\n",
    "            break\n",
    "    return V\n",
    "\n",
    "def policy_iteration(env, gamma=1.0):\n",
    "    policy = np.ones([env.observation_space.n, env.action_space.n]) / env.action_space.n\n",
    "    while True:\n",
    "        V = policy_evaluation(env, policy, gamma)\n",
    "        new_policy = np.zeros([env.observation_space.n, env.action_space.n])\n",
    "        for s in range(env.observation_space.n):\n",
    "            action_values = np.zeros(env.action_space.n)\n",
    "            for a in range(env.action_space.n):\n",
    "                for prob, next_state, reward, _ in env.P[s][a]:\n",
    "                    action_values[a] += prob * (reward + gamma * V[next_state])\n",
    "            best_action = np.argmax(action_values)\n",
    "            new_policy[s][best_action] = 1.0\n",
    "        if np.array_equal(new_policy, policy):\n",
    "            break\n",
    "        policy = new_policy\n",
    "    return policy, V\n",
    "\n",
    "# Define the environment\n",
    "env = gym.make('FrozenLake-v1')\n",
    "\n",
    "# Perform Policy Iteration\n",
    "optimal_policy, optimal_value = policy_iteration(env)\n",
    "\n",
    "# Now you can use the results\n",
    "print(\"Optimal Policy:\")\n",
    "print(optimal_policy)\n",
    "print(\"Optimal Value Function:\")\n",
    "print(optimal_value)\n"
   ]
  },
  {
   "cell_type": "code",
   "execution_count": null,
   "id": "8391829d",
   "metadata": {},
   "outputs": [],
   "source": []
  }
 ],
 "metadata": {
  "kernelspec": {
   "display_name": "Python 3 (ipykernel)",
   "language": "python",
   "name": "python3"
  },
  "language_info": {
   "codemirror_mode": {
    "name": "ipython",
    "version": 3
   },
   "file_extension": ".py",
   "mimetype": "text/x-python",
   "name": "python",
   "nbconvert_exporter": "python",
   "pygments_lexer": "ipython3",
   "version": "3.11.4"
  }
 },
 "nbformat": 4,
 "nbformat_minor": 5
}
