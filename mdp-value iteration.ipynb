{
 "cells": [
  {
   "cell_type": "code",
   "execution_count": 1,
   "id": "8d97b147",
   "metadata": {},
   "outputs": [
    {
     "name": "stdout",
     "output_type": "stream",
     "text": [
      "Optimal Value Function:\n",
      "[-1.9 -1.9 -1.  -1.   0. ]\n"
     ]
    }
   ],
   "source": [
    "import numpy as np\n",
    "\n",
    "# Define MDP parameters\n",
    "num_states = 5\n",
    "num_actions = 2\n",
    "gamma = 0.9  # Discount factor\n",
    "\n",
    "# Transition probabilities (deterministic for simplicity)\n",
    "P = np.array([\n",
    "    [[0, 1, 0, 0, 0], [0, 0, 1, 0, 0]],  # state 0\n",
    "    [[1, 0, 0, 0, 0], [0, 0, 0, 1, 0]],  # state 1\n",
    "    [[0, 0, 0, 1, 0], [0, 0, 0, 0, 1]],  # state 2\n",
    "    [[0, 0, 1, 0, 0], [0, 0, 0, 0, 1]],  # state 3\n",
    "    [[0, 0, 0, 0, 0], [0, 0, 0, 0, 0]]   # state 4 (terminal)\n",
    "])\n",
    "\n",
    "# Rewards\n",
    "R = np.array([\n",
    "    [-1, -1],  # state 0\n",
    "    [-1, -1],  # state 1\n",
    "    [-1, -1],  # state 2\n",
    "    [-1, -1],  # state 3\n",
    "    [10, -1]   # state 4 (terminal)\n",
    "])\n",
    "\n",
    "# Value Iteration\n",
    "V = np.zeros(num_states)  # Initialize value function\n",
    "\n",
    "for _ in range(1000):  # Maximum number of iterations\n",
    "    prev_V = np.copy(V)\n",
    "    for s in range(num_states):\n",
    "        action_values = [sum(P[s, a, s1] * (R[s, a] + gamma * prev_V[s1]) for s1 in range(num_states)) for a in range(num_actions)]\n",
    "        V[s] = max(action_values)\n",
    "\n",
    "# Print the optimal value function\n",
    "print(\"Optimal Value Function:\")\n",
    "print(V)\n"
   ]
  },
  {
   "cell_type": "code",
   "execution_count": null,
   "id": "3760616f",
   "metadata": {},
   "outputs": [],
   "source": []
  }
 ],
 "metadata": {
  "kernelspec": {
   "display_name": "Python 3 (ipykernel)",
   "language": "python",
   "name": "python3"
  },
  "language_info": {
   "codemirror_mode": {
    "name": "ipython",
    "version": 3
   },
   "file_extension": ".py",
   "mimetype": "text/x-python",
   "name": "python",
   "nbconvert_exporter": "python",
   "pygments_lexer": "ipython3",
   "version": "3.11.4"
  }
 },
 "nbformat": 4,
 "nbformat_minor": 5
}
